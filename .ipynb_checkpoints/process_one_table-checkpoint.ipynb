{
 "cells": [
  {
   "cell_type": "code",
   "execution_count": null,
   "id": "7cef7240-20e0-42fc-9226-7fa1bca2fdb4",
   "metadata": {},
   "outputs": [],
   "source": [
    "import pandas as pd\n",
    "import re\n",
    "\n",
    "# suppress SettingWithCopyWarning\n",
    "pd.options.mode.chained_assignment = None"
   ]
  },
  {
   "cell_type": "code",
   "execution_count": null,
   "id": "c5c173ff-8d67-45ac-9a8c-a5e613f1f4c6",
   "metadata": {},
   "outputs": [],
   "source": [
    "# column header contains the top row of data; take contents of header and put into a new df\n",
    "\n",
    "first_row = df_rooms.columns.to_frame().T\n",
    "first_row"
   ]
  },
  {
   "cell_type": "code",
   "execution_count": null,
   "id": "450971c5-5680-4e9e-a0cd-f81973b48054",
   "metadata": {},
   "outputs": [],
   "source": [
    "# add top row to rest of data\n",
    "# reset index\n",
    "# rename column headers\n",
    "# drop the 'comments' column\n",
    "\n",
    "df_rooms = first_row.append(df_rooms)\n",
    "df_rooms.reset_index(drop = True, inplace = True)\n",
    "df_rooms.columns = ['room', 'category', 'comment']\n",
    "df_rooms.drop('comment', axis = 1, inplace = True)\n",
    "df_rooms.head()"
   ]
  },
  {
   "cell_type": "code",
   "execution_count": 190,
   "id": "6ab1e2cb-e326-48bc-ac51-c69120f7b632",
   "metadata": {},
   "outputs": [
    {
     "name": "stdout",
     "output_type": "stream",
     "text": [
      "(40, 4)\n"
     ]
    },
    {
     "data": {
      "text/html": [
       "<div>\n",
       "<style scoped>\n",
       "    .dataframe tbody tr th:only-of-type {\n",
       "        vertical-align: middle;\n",
       "    }\n",
       "\n",
       "    .dataframe tbody tr th {\n",
       "        vertical-align: top;\n",
       "    }\n",
       "\n",
       "    .dataframe thead th {\n",
       "        text-align: right;\n",
       "    }\n",
       "</style>\n",
       "<table border=\"1\" class=\"dataframe\">\n",
       "  <thead>\n",
       "    <tr style=\"text-align: right;\">\n",
       "      <th></th>\n",
       "      <th>room</th>\n",
       "      <th>category</th>\n",
       "      <th>area</th>\n",
       "      <th>capacity</th>\n",
       "    </tr>\n",
       "  </thead>\n",
       "  <tbody>\n",
       "    <tr>\n",
       "      <th>0</th>\n",
       "      <td>B00A - R0001 - Home Base - (71.49 SQM) - Teach...</td>\n",
       "      <td>Student Space (33)</td>\n",
       "      <td>71.49</td>\n",
       "      <td>33</td>\n",
       "    </tr>\n",
       "    <tr>\n",
       "      <th>1</th>\n",
       "      <td>B00A - R0002 - Home Base - (71.4 SQM) - Teachi...</td>\n",
       "      <td>Student Space (33)</td>\n",
       "      <td>71.40</td>\n",
       "      <td>33</td>\n",
       "    </tr>\n",
       "    <tr>\n",
       "      <th>2</th>\n",
       "      <td>B00A - R0003 - Movement - (79.87 SQM)</td>\n",
       "      <td>Not Applicable</td>\n",
       "      <td>79.87</td>\n",
       "      <td>0</td>\n",
       "    </tr>\n",
       "    <tr>\n",
       "      <th>3</th>\n",
       "      <td>B00A - R0004 - Interview - (12.59 SQM)</td>\n",
       "      <td>Office (3)</td>\n",
       "      <td>12.59</td>\n",
       "      <td>3</td>\n",
       "    </tr>\n",
       "    <tr>\n",
       "      <th>4</th>\n",
       "      <td>B00A - R0005 - Principal - (18.62 SQM)</td>\n",
       "      <td>Office (4)</td>\n",
       "      <td>18.62</td>\n",
       "      <td>4</td>\n",
       "    </tr>\n",
       "  </tbody>\n",
       "</table>\n",
       "</div>"
      ],
      "text/plain": [
       "                                                room            category  \\\n",
       "0  B00A - R0001 - Home Base - (71.49 SQM) - Teach...  Student Space (33)   \n",
       "1  B00A - R0002 - Home Base - (71.4 SQM) - Teachi...  Student Space (33)   \n",
       "2              B00A - R0003 - Movement - (79.87 SQM)      Not Applicable   \n",
       "3             B00A - R0004 - Interview - (12.59 SQM)          Office (3)   \n",
       "4             B00A - R0005 - Principal - (18.62 SQM)          Office (4)   \n",
       "\n",
       "    area  capacity  \n",
       "0  71.49        33  \n",
       "1  71.40        33  \n",
       "2  79.87         0  \n",
       "3  12.59         3  \n",
       "4  18.62         4  "
      ]
     },
     "execution_count": 190,
     "metadata": {},
     "output_type": "execute_result"
    }
   ],
   "source": [
    "# extract floor area and capacity into own column\n",
    "\n",
    "# first define regex: (, then one or more symbols, then )\n",
    "pattern = re.compile('\\(.+\\)')\n",
    "\n",
    "def extract_area(room):\n",
    "    # use regex to extract floor area from room info\n",
    "    # remove left bracket, right space, 'SQM' and right bracket\n",
    "    match = pattern.search(room).group()\n",
    "    return match.replace('(', '').replace(' SQM)', '')\n",
    "\n",
    "def extract_capacity(category):\n",
    "    # set cap to 0 if not applicable (room has no set capacity)\n",
    "    # otherwise, use regex to extract capacity from category info\n",
    "    # remove left and right brackets\n",
    "    \n",
    "    if (\"Not Applicable\" in category):\n",
    "        cap = 0\n",
    "    else:\n",
    "        match = pattern.search(category).group()\n",
    "        cap = match.replace('(', '').replace(')', '')\n",
    "        \n",
    "    return cap;\n",
    "    \n",
    "# apply extract_area to room column; output into new 'area' column\n",
    "df_rooms['area'] = df_rooms['room'].apply(extract_area).astype(float)\n",
    "\n",
    "# apply extract_capacity to category column; output into new 'capacity' column\n",
    "df_rooms['capacity'] = df_rooms['category'].apply(extract_capacity).astype(int)\n",
    "\n",
    "print(df_rooms.shape)\n",
    "df_rooms.head()"
   ]
  },
  {
   "cell_type": "code",
   "execution_count": null,
   "id": "6489d668-b6cb-4969-b264-0e3f000d4028",
   "metadata": {},
   "outputs": [],
   "source": [
    "# extract cat A into own df\n",
    "\n",
    "def is_catA(category):\n",
    "    pattern = re.compile(\"Student Space\")\n",
    "    return pattern.search(category) != None\n",
    "\n",
    "df_catA = df_rooms[df_rooms['category'].apply(is_catA)]\n",
    "\n",
    "print(df_catA.shape)\n",
    "df_catA.head()"
   ]
  },
  {
   "cell_type": "code",
   "execution_count": null,
   "id": "916909b6-4374-43b0-b28e-628e32a22915",
   "metadata": {},
   "outputs": [],
   "source": [
    "# use formula to guess cat A capacities\n",
    "# compare guess with actual capacity\n",
    "\n",
    "df_catA['capacity_guess'] = df_catA['area'].apply(lambda x: int(x*0.925/2))\n",
    "df_catA['delta'] = df_catA['capacity'] - df_catA['capacity_guess']\n",
    "\n",
    "print(df_catA.head())"
   ]
  },
  {
   "cell_type": "code",
   "execution_count": null,
   "id": "56db8e53-6863-40fd-9468-9ba50c56a06f",
   "metadata": {},
   "outputs": [],
   "source": [
    "df_catA['delta'].value_counts()"
   ]
  },
  {
   "cell_type": "code",
   "execution_count": null,
   "id": "3e9ed9df-b655-41a5-8581-6c5f6dc8fd54",
   "metadata": {},
   "outputs": [],
   "source": []
  },
  {
   "cell_type": "code",
   "execution_count": null,
   "id": "9da786c4-b2e6-4c7b-a243-66eef24db584",
   "metadata": {},
   "outputs": [],
   "source": []
  }
 ],
 "metadata": {
  "kernelspec": {
   "display_name": "Python 3 (ipykernel)",
   "language": "python",
   "name": "python3"
  },
  "language_info": {
   "codemirror_mode": {
    "name": "ipython",
    "version": 3
   },
   "file_extension": ".py",
   "mimetype": "text/x-python",
   "name": "python",
   "nbconvert_exporter": "python",
   "pygments_lexer": "ipython3",
   "version": "3.8.12"
  }
 },
 "nbformat": 4,
 "nbformat_minor": 5
}
