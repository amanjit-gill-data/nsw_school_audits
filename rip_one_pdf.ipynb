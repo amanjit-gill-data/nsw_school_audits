{
 "cells": [
  {
   "cell_type": "code",
   "execution_count": 245,
   "id": "83c312c5-b0a3-44cf-9cb7-008f5624d07a",
   "metadata": {},
   "outputs": [],
   "source": [
    "import tabula\n",
    "import pandas as pd\n",
    "import re\n",
    "\n",
    "# suppress SettingWithCopyWarning\n",
    "pd.options.mode.chained_assignment = None"
   ]
  },
  {
   "cell_type": "code",
   "execution_count": 246,
   "id": "19e67555-cb6b-4d57-904e-00ec571b9aec",
   "metadata": {},
   "outputs": [],
   "source": [
    "### UNCOMMENT TO RIP A SINGLE FILE ON DEMAND\n",
    "\n",
    "# file_path = \"pdfs/Cherrybrook_Technology_High_School.pdf\""
   ]
  },
  {
   "cell_type": "code",
   "execution_count": 247,
   "id": "783c6843-07ae-4ef0-93d9-fdfa76bee846",
   "metadata": {},
   "outputs": [],
   "source": [
    "# read all pages of pdf; return list of dfs\n",
    "\n",
    "df_list = tabula.read_pdf(file_path, pages = \"all\")"
   ]
  },
  {
   "cell_type": "code",
   "execution_count": 248,
   "id": "88ea79bf-a0aa-4ae4-9508-f081b8651cb3",
   "metadata": {},
   "outputs": [
    {
     "name": "stdout",
     "output_type": "stream",
     "text": [
      "Num Spaces =\t\t48\n",
      "Num Cat A spaces =\t16\n",
      "Num Spaces =\t\t50\n",
      "Num Cat A spaces =\t21\n",
      "Num Spaces =\t\t47\n",
      "Num Cat A spaces =\t26\n",
      "Num Spaces =\t\t46\n",
      "Num Cat A spaces =\t31\n",
      "Num Spaces =\t\t13\n",
      "Num Cat A spaces =\t4\n"
     ]
    },
    {
     "data": {
      "text/html": [
       "<div>\n",
       "<style scoped>\n",
       "    .dataframe tbody tr th:only-of-type {\n",
       "        vertical-align: middle;\n",
       "    }\n",
       "\n",
       "    .dataframe tbody tr th {\n",
       "        vertical-align: top;\n",
       "    }\n",
       "\n",
       "    .dataframe thead th {\n",
       "        text-align: right;\n",
       "    }\n",
       "</style>\n",
       "<table border=\"1\" class=\"dataframe\">\n",
       "  <thead>\n",
       "    <tr style=\"text-align: right;\">\n",
       "      <th></th>\n",
       "      <th>room</th>\n",
       "      <th>category</th>\n",
       "      <th>area</th>\n",
       "      <th>capacity</th>\n",
       "      <th>capacity_guess</th>\n",
       "      <th>delta</th>\n",
       "    </tr>\n",
       "  </thead>\n",
       "  <tbody>\n",
       "    <tr>\n",
       "      <th>4</th>\n",
       "      <td>NS 270 13187 - NS 270 13187 - Metal Technics/H...</td>\n",
       "      <td>Student Space (44)</td>\n",
       "      <td>95.0</td>\n",
       "      <td>44</td>\n",
       "      <td>43</td>\n",
       "      <td>1</td>\n",
       "    </tr>\n",
       "    <tr>\n",
       "      <th>5</th>\n",
       "      <td>OS 600 13406 - OS 600 13406 - Learning Unit - ...</td>\n",
       "      <td>Student Space (26)</td>\n",
       "      <td>57.0</td>\n",
       "      <td>26</td>\n",
       "      <td>26</td>\n",
       "      <td>0</td>\n",
       "    </tr>\n",
       "    <tr>\n",
       "      <th>6</th>\n",
       "      <td>OS 600 14882 - OS 600 14882 - Learning Unit - ...</td>\n",
       "      <td>Student Space (26)</td>\n",
       "      <td>57.0</td>\n",
       "      <td>26</td>\n",
       "      <td>26</td>\n",
       "      <td>0</td>\n",
       "    </tr>\n",
       "    <tr>\n",
       "      <th>7</th>\n",
       "      <td>OS 600 15889 - OS 600 15889 - Learning Unit - ...</td>\n",
       "      <td>Student Space (26)</td>\n",
       "      <td>57.0</td>\n",
       "      <td>26</td>\n",
       "      <td>26</td>\n",
       "      <td>0</td>\n",
       "    </tr>\n",
       "  </tbody>\n",
       "</table>\n",
       "</div>"
      ],
      "text/plain": [
       "                                                room            category  \\\n",
       "4  NS 270 13187 - NS 270 13187 - Metal Technics/H...  Student Space (44)   \n",
       "5  OS 600 13406 - OS 600 13406 - Learning Unit - ...  Student Space (26)   \n",
       "6  OS 600 14882 - OS 600 14882 - Learning Unit - ...  Student Space (26)   \n",
       "7  OS 600 15889 - OS 600 15889 - Learning Unit - ...  Student Space (26)   \n",
       "\n",
       "   area  capacity  capacity_guess  delta  \n",
       "4  95.0        44              43      1  \n",
       "5  57.0        26              26      0  \n",
       "6  57.0        26              26      0  \n",
       "7  57.0        26              26      0  "
      ]
     },
     "execution_count": 248,
     "metadata": {},
     "output_type": "execute_result"
    }
   ],
   "source": [
    "# take just the dfs containing room data\n",
    "# process each one, adding accuracy stats to overall total\n",
    "\n",
    "num_pages = len(df_list)\n",
    "\n",
    "# iterate from table 2 to num_pages-1\n",
    "# (Python includes the first index, stops short of the last index)\n",
    "# tables 0 and 1 are from the intro pages and will be discarded\n",
    "for i in range(2, num_pages):\n",
    "    df_rooms = df_list[i]\n",
    "    %run process_one_table.ipynb\n",
    "    school_name = file_path.replace(\"pdfs/\", \"\").replace(\".pdf\", \"\")\n",
    "    # name the tables from 1 onwards\n",
    "    df_catA.to_csv(\"outputs/\" + school_name + str(i-1) + \".csv\")\n",
    "    \n",
    "df_catA"
   ]
  },
  {
   "cell_type": "code",
   "execution_count": null,
   "id": "ff32a262-2951-4f44-8a15-9a2c6baf58db",
   "metadata": {},
   "outputs": [],
   "source": []
  }
 ],
 "metadata": {
  "kernelspec": {
   "display_name": "Python 3 (ipykernel)",
   "language": "python",
   "name": "python3"
  },
  "language_info": {
   "codemirror_mode": {
    "name": "ipython",
    "version": 3
   },
   "file_extension": ".py",
   "mimetype": "text/x-python",
   "name": "python",
   "nbconvert_exporter": "python",
   "pygments_lexer": "ipython3",
   "version": "3.8.12"
  }
 },
 "nbformat": 4,
 "nbformat_minor": 5
}
