{
 "cells": [
  {
   "cell_type": "code",
   "execution_count": 211,
   "id": "83c312c5-b0a3-44cf-9cb7-008f5624d07a",
   "metadata": {},
   "outputs": [],
   "source": [
    "import tabula\n",
    "import pandas as pd\n",
    "import re\n",
    "\n",
    "# suppress SettingWithCopyWarning\n",
    "pd.options.mode.chained_assignment = None"
   ]
  },
  {
   "cell_type": "code",
   "execution_count": 212,
   "id": "19e67555-cb6b-4d57-904e-00ec571b9aec",
   "metadata": {},
   "outputs": [],
   "source": [
    "file_path = \"pdfs/Balarang_Public_School.pdf\""
   ]
  },
  {
   "cell_type": "code",
   "execution_count": 219,
   "id": "783c6843-07ae-4ef0-93d9-fdfa76bee846",
   "metadata": {},
   "outputs": [],
   "source": [
    "# read all pages of pdf; return list of dfs\n",
    "\n",
    "df_list = tabula.read_pdf(file_path, pages = \"all\")"
   ]
  },
  {
   "cell_type": "code",
   "execution_count": 223,
   "id": "88ea79bf-a0aa-4ae4-9508-f081b8651cb3",
   "metadata": {},
   "outputs": [
    {
     "name": "stdout",
     "output_type": "stream",
     "text": [
      "(49, 4)\n",
      "(24, 4)\n",
      "                                                room            category  \\\n",
      "0  B00A - R0001 - Home Base - (52.02 SQM) - Teach...  Student Space (24)   \n",
      "1  B00A - R0002 - Practical Activities - 1hb - (2...  Student Space (10)   \n",
      "2  B00A - R0003 - Practical Activities - 1hb - (2...   Student Space (9)   \n",
      "3  B00A - R0004 - Home Base - (54.08 SQM) - Teach...  Student Space (25)   \n",
      "4  B00A - R0005 - Home Base - (52.74 SQM) - Teach...  Student Space (24)   \n",
      "\n",
      "    area  capacity  capacity_guess  delta  \n",
      "0  52.02        24              24      0  \n",
      "1  21.98        10              10      0  \n",
      "2  20.01         9               9      0  \n",
      "3  54.08        25              25      0  \n",
      "4  52.74        24              24      0  \n",
      "(10, 4)\n",
      "(8, 4)\n",
      "                                                room            category  \\\n",
      "0  B00H - R0001 - Home Base - (58.87 SQM) - Teach...  Student Space (27)   \n",
      "1  B00H - R0005 - Home Base - (58.17 SQM) - Teach...  Student Space (26)   \n",
      "2  B00H - R0007 - Home Base - (88.18 SQM) - Teach...  Student Space (40)   \n",
      "3  B00H - R0012 - Home Base - (58.87 SQM) - Teach...  Student Space (27)   \n",
      "6  B00J - R0001 - Practical Activities - (19.94 SQM)   Student Space (9)   \n",
      "\n",
      "    area  capacity  capacity_guess  delta  \n",
      "0  58.87        27              27      0  \n",
      "1  58.17        26              26      0  \n",
      "2  88.18        40              40      0  \n",
      "3  58.87        27              27      0  \n",
      "6  19.94         9               9      0  \n"
     ]
    }
   ],
   "source": [
    "# take just the dfs containing room data\n",
    "# process each one, adding accuracy stats to overall total\n",
    "\n",
    "num_pages = len(df_list)\n",
    "\n",
    "# iterate from table 2 to num_pages-1\n",
    "# (Python includes the first index, stops short of the last index)\n",
    "# tables 0 and 1 are from the intro pages and will be discarded\n",
    "for i in range(2, num_pages):\n",
    "    df_rooms = df_list[i]\n",
    "    %run process_one_table.ipynb\n",
    "    school_name = file_path.replace(\"pdfs/\", \"\").replace(\".pdf\", \"\")\n",
    "    df_catA.to_csv(\"outputs/\" + school_name + str(i) + \".csv\")"
   ]
  },
  {
   "cell_type": "code",
   "execution_count": null,
   "id": "ff32a262-2951-4f44-8a15-9a2c6baf58db",
   "metadata": {},
   "outputs": [],
   "source": []
  },
  {
   "cell_type": "code",
   "execution_count": null,
   "id": "6a5da7d0-9a61-4b5b-9c39-21a725355b6d",
   "metadata": {},
   "outputs": [],
   "source": []
  },
  {
   "cell_type": "code",
   "execution_count": null,
   "id": "dfab2f36-7e90-4ce4-8164-3d22c7390a4c",
   "metadata": {},
   "outputs": [],
   "source": []
  },
  {
   "cell_type": "code",
   "execution_count": null,
   "id": "7e5c126c-7927-4ae7-81e8-9d119ad1fbe3",
   "metadata": {},
   "outputs": [],
   "source": []
  },
  {
   "cell_type": "code",
   "execution_count": null,
   "id": "5158f9b6-2162-4c32-8384-35fe39ff0ed1",
   "metadata": {},
   "outputs": [],
   "source": []
  },
  {
   "cell_type": "code",
   "execution_count": null,
   "id": "462575f8-fc5b-4744-a3ec-66af4fe06681",
   "metadata": {},
   "outputs": [],
   "source": []
  },
  {
   "cell_type": "code",
   "execution_count": null,
   "id": "d918f89b-e821-4880-8e93-0a609311b28e",
   "metadata": {},
   "outputs": [],
   "source": []
  },
  {
   "cell_type": "code",
   "execution_count": null,
   "id": "d60740dc-9d2c-4223-8532-30a60ad00ae0",
   "metadata": {},
   "outputs": [],
   "source": []
  }
 ],
 "metadata": {
  "kernelspec": {
   "display_name": "Python 3 (ipykernel)",
   "language": "python",
   "name": "python3"
  },
  "language_info": {
   "codemirror_mode": {
    "name": "ipython",
    "version": 3
   },
   "file_extension": ".py",
   "mimetype": "text/x-python",
   "name": "python",
   "nbconvert_exporter": "python",
   "pygments_lexer": "ipython3",
   "version": "3.8.12"
  }
 },
 "nbformat": 4,
 "nbformat_minor": 5
}
