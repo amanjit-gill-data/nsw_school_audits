{
 "cells": [
  {
   "cell_type": "code",
   "execution_count": 3,
   "id": "c34a2e19-164c-4b9e-8708-712102e57f13",
   "metadata": {},
   "outputs": [],
   "source": [
    "import os"
   ]
  },
  {
   "cell_type": "code",
   "execution_count": 4,
   "id": "08bdc0c0-b1af-426a-bd73-900e6228b80e",
   "metadata": {},
   "outputs": [
    {
     "name": "stdout",
     "output_type": "stream",
     "text": [
      "Num Spaces =\t\t48\n",
      "Num Cat A spaces =\t16\n",
      "Num Spaces =\t\t50\n",
      "Num Cat A spaces =\t21\n",
      "Num Spaces =\t\t47\n",
      "Num Cat A spaces =\t26\n",
      "Num Spaces =\t\t46\n",
      "Num Cat A spaces =\t31\n",
      "Num Spaces =\t\t13\n",
      "Num Cat A spaces =\t4\n",
      "Num Spaces =\t\t49\n",
      "Num Cat A spaces =\t24\n",
      "Num Spaces =\t\t10\n",
      "Num Cat A spaces =\t8\n",
      "Num Spaces =\t\t40\n",
      "Num Cat A spaces =\t19\n"
     ]
    }
   ],
   "source": [
    "# loop through each file in a folder, setting the file_path and running the other notebook\n",
    "\n",
    "dir_path = \"pdfs\"\n",
    "\n",
    "for filename in os.listdir(dir_path):\n",
    "    if (filename.endswith(\".pdf\")):\n",
    "        file_path = dir_path + \"/\" + filename\n",
    "        %run rip_one_pdf.ipynb"
   ]
  },
  {
   "cell_type": "code",
   "execution_count": null,
   "id": "e3855c25-dae2-49cb-b18c-98a97faae4db",
   "metadata": {},
   "outputs": [],
   "source": []
  }
 ],
 "metadata": {
  "kernelspec": {
   "display_name": "nsw_school_audits",
   "language": "python",
   "name": "nsw_school_audits"
  },
  "language_info": {
   "codemirror_mode": {
    "name": "ipython",
    "version": 3
   },
   "file_extension": ".py",
   "mimetype": "text/x-python",
   "name": "python",
   "nbconvert_exporter": "python",
   "pygments_lexer": "ipython3",
   "version": "3.12.4"
  }
 },
 "nbformat": 4,
 "nbformat_minor": 5
}
