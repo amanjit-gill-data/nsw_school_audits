{
 "cells": [
  {
   "cell_type": "code",
   "execution_count": 9,
   "id": "08bdc0c0-b1af-426a-bd73-900e6228b80e",
   "metadata": {},
   "outputs": [
    {
     "name": "stdout",
     "output_type": "stream",
     "text": [
      "(49, 4)\n",
      "(24, 4)\n"
     ]
    }
   ],
   "source": [
    "# loop through each file in a folder, setting the file_path and running the other notebook\n",
    "\n",
    "file_path = \"pdfs/Balarang_Public_School.pdf\"\n",
    "\n",
    "%run rip_one.ipynb"
   ]
  },
  {
   "cell_type": "code",
   "execution_count": null,
   "id": "e3855c25-dae2-49cb-b18c-98a97faae4db",
   "metadata": {},
   "outputs": [],
   "source": []
  }
 ],
 "metadata": {
  "kernelspec": {
   "display_name": "Python 3 (ipykernel)",
   "language": "python",
   "name": "python3"
  },
  "language_info": {
   "codemirror_mode": {
    "name": "ipython",
    "version": 3
   },
   "file_extension": ".py",
   "mimetype": "text/x-python",
   "name": "python",
   "nbconvert_exporter": "python",
   "pygments_lexer": "ipython3",
   "version": "3.8.12"
  }
 },
 "nbformat": 4,
 "nbformat_minor": 5
}
